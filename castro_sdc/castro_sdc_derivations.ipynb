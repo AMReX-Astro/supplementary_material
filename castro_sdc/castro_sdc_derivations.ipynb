{
 "cells": [
  {
   "cell_type": "markdown",
   "metadata": {},
   "source": [
    "# Derivations for the Castro SDC Solver\n",
    "\n",
    "This notebook contains the various derivations of the equations presented in the appendix of the Castro SDC paper."
   ]
  },
  {
   "cell_type": "code",
   "execution_count": 1,
   "metadata": {},
   "outputs": [
    {
     "name": "stdout",
     "output_type": "stream",
     "text": [
      "IPython console for SymPy 1.3 (Python 3.7.4-64-bit) (ground types: gmpy)\n",
      "\n",
      "These commands were executed:\n",
      ">>> from __future__ import division\n",
      ">>> from sympy import *\n",
      ">>> x, y, z, t = symbols('x y z t')\n",
      ">>> k, m, n = symbols('k m n', integer=True)\n",
      ">>> f, g, h = symbols('f g h', cls=Function)\n",
      ">>> init_printing()\n",
      "\n",
      "Documentation can be found at http://docs.sympy.org/1.3/\n",
      "\n"
     ]
    }
   ],
   "source": [
    "from sympy import init_session\n",
    "init_session()"
   ]
  },
  {
   "cell_type": "markdown",
   "metadata": {},
   "source": [
    "## Quadrature Formula\n",
    "\n",
    "For the 4th order solver, use three points in time, $t^n$, $t^n + \\delta t/2$, and $t^n + \\delta t$ and we want to do an integral over these that is fourth order accurate.  \n",
    "\n",
    "We'll define $\\tau = \\delta t/2$ as the interval between temporal, and then fit a parabola to the data at the three temporal nodes, $t_0$, $t_1 = t_0 + \\tau$, $t_2 = t_1 + \\tau$:\n",
    "\n",
    "$$p(t) = a (t - t_0)^2 + b (t - t_0) + c$$\n",
    "\n",
    "We then compute the integrals of this parabola in $[t_0, t_1]$ and $[t_1, t_2]$."
   ]
  },
  {
   "cell_type": "code",
   "execution_count": 2,
   "metadata": {},
   "outputs": [],
   "source": [
    "# define the symbols we need\n",
    "A, B, C = symbols(\"A B C\")\n",
    "p0, p1, p2 = symbols(\"phi_0 phi_1 phi_2\")\n",
    "tau = symbols(\"tau\")\n",
    "t, t0 = symbols(\"t t_0\")"
   ]
  },
  {
   "cell_type": "markdown",
   "metadata": {},
   "source": [
    "Here is our polynomial:"
   ]
  },
  {
   "cell_type": "code",
   "execution_count": 3,
   "metadata": {},
   "outputs": [],
   "source": [
    "p = A*(t - t0)**2 + B*(t - t0) + C"
   ]
  },
  {
   "cell_type": "markdown",
   "metadata": {},
   "source": [
    "Now we solve for the coefficients, $A$, $B$, $C$, by requiring that:\n",
    "\\begin{align*}\n",
    "p(t_0) &= \\phi_0 \\\\\n",
    "p(t_1) &= \\phi_1 \\\\\n",
    "p(t_2) &= \\phi_2\n",
    "\\end{align*}"
   ]
  },
  {
   "cell_type": "code",
   "execution_count": 4,
   "metadata": {},
   "outputs": [
    {
     "data": {
      "image/png": "[encoded data removed]",
      "text/latex": [
       "$$\\left \\{ A : \\frac{\\phi_{0} - 2 \\phi_{1} + \\phi_{2}}{2 \\tau^{2}}, \\quad B : \\frac{- 3 \\phi_{0} + 4 \\phi_{1} - \\phi_{2}}{2 \\tau}, \\quad C : \\phi_{0}\\right \\}$$"
      ],
      "text/plain": [
       "⎧   φ₀ - 2⋅φ₁ + φ₂     -3⋅φ₀ + 4⋅φ₁ - φ₂       ⎫\n",
       "⎪A: ──────────────, B: ─────────────────, C: φ₀⎪\n",
       "⎨           2                 2⋅τ              ⎬\n",
       "⎪        2⋅τ                                   ⎪\n",
       "⎩                                              ⎭"
      ]
     },
     "execution_count": 4,
     "metadata": {},
     "output_type": "execute_result"
    }
   ],
   "source": [
    "coeffs = solve([p.subs(t, t0)-p0, p.subs(t, t0+tau)-p1, p.subs(t, t0+2*tau)-p2], [A,B,C], check=False)\n",
    "coeffs"
   ]
  },
  {
   "cell_type": "markdown",
   "metadata": {},
   "source": [
    "Now we'll rewrite the polynomial using these values of $A$, $B$, $C$"
   ]
  },
  {
   "cell_type": "code",
   "execution_count": 5,
   "metadata": {},
   "outputs": [
    {
     "data": {
      "image/png": "[encoded data removed]",
      "text/latex": [
       "$$\\phi_{0} + \\frac{\\left(t - t_{0}\\right) \\left(- 3 \\phi_{0} + 4 \\phi_{1} - \\phi_{2}\\right)}{2 \\tau} + \\frac{\\left(t - t_{0}\\right)^{2} \\left(\\phi_{0} - 2 \\phi_{1} + \\phi_{2}\\right)}{2 \\tau^{2}}$$"
      ],
      "text/plain": [
       "                                            2                 \n",
       "     (t - t₀)⋅(-3⋅φ₀ + 4⋅φ₁ - φ₂)   (t - t₀) ⋅(φ₀ - 2⋅φ₁ + φ₂)\n",
       "φ₀ + ──────────────────────────── + ──────────────────────────\n",
       "                 2⋅τ                              2           \n",
       "                                               2⋅τ            "
      ]
     },
     "execution_count": 5,
     "metadata": {},
     "output_type": "execute_result"
    }
   ],
   "source": [
    "pp = coeffs[A]*(t - t0)**2 + coeffs[B]*(t - t0) + coeffs[C]\n",
    "pp"
   ]
  },
  {
   "cell_type": "markdown",
   "metadata": {},
   "source": [
    "### Construct the integrals\n",
    "\n",
    "We integrate over each half of the time domain.  First we compute integral from $t_0$ to $t_1$"
   ]
  },
  {
   "cell_type": "code",
   "execution_count": 6,
   "metadata": {},
   "outputs": [],
   "source": [
    "q = integrate(pp, (t, t0, t0+tau))"
   ]
  },
  {
   "cell_type": "code",
   "execution_count": 7,
   "metadata": {},
   "outputs": [
    {
     "data": {
      "image/png": "[encoded data removed]",
      "text/latex": [
       "$$\\frac{\\tau \\left(5 \\phi_{0} + 8 \\phi_{1} - \\phi_{2}\\right)}{12}$$"
      ],
      "text/plain": [
       "τ⋅(5⋅φ₀ + 8⋅φ₁ - φ₂)\n",
       "────────────────────\n",
       "         12         "
      ]
     },
     "execution_count": 7,
     "metadata": {},
     "output_type": "execute_result"
    }
   ],
   "source": [
    "simplify(q)"
   ]
  },
  {
   "cell_type": "markdown",
   "metadata": {},
   "source": [
    "Next we compute the integral from $t_1$ to $t_2$"
   ]
  },
  {
   "cell_type": "code",
   "execution_count": 8,
   "metadata": {},
   "outputs": [],
   "source": [
    "q = integrate(pp, (t, t0+tau, t0+2*tau))"
   ]
  },
  {
   "cell_type": "code",
   "execution_count": 9,
   "metadata": {},
   "outputs": [
    {
     "data": {
      "image/png": "[encoded data removed]",
      "text/latex": [
       "$$\\frac{\\tau \\left(- \\phi_{0} + 8 \\phi_{1} + 5 \\phi_{2}\\right)}{12}$$"
      ],
      "text/plain": [
       "τ⋅(-φ₀ + 8⋅φ₁ + 5⋅φ₂)\n",
       "─────────────────────\n",
       "          12         "
      ]
     },
     "execution_count": 9,
     "metadata": {},
     "output_type": "execute_result"
    }
   ],
   "source": [
    "simplify(q)"
   ]
  },
  {
   "cell_type": "markdown",
   "metadata": {},
   "source": [
    "## Appendix A: Jacobian\n",
    "\n",
    "We want to compute the Jacobian $\\partial w/\\partial \\mathcal{U}$ with\n",
    "\n",
    "$\\mathcal{U} = (\\rho, \\rho X_\\alpha, \\rho X_\\beta, \\rho e)^\\intercal$\n",
    "\n",
    "$w = (\\rho, X_\\alpha, X_\\beta, T)^\\intercal$\n",
    "\n",
    "We'll start by writing down\n",
    "\n",
    "$A = \\partial \\mathcal{U}/\\partial w$\n",
    "\n",
    "and then find its inverse"
   ]
  },
  {
   "cell_type": "code",
   "execution_count": 10,
   "metadata": {},
   "outputs": [],
   "source": [
    "r, E, e, Xa, Xb = symbols(r\"rho E e X_{\\alpha} X_{\\beta}\")\n",
    "dedr, dedT, dedXa, dedXb = symbols(r\"\\frac{\\partial{}e}{\\partial\\rho} \\frac{\\partial{}e}{\\partial{}T} \" +\n",
    "                                   r\"\\frac{\\partial{}e}{\\partial{}X_{\\alpha}} \\frac{\\partial{}e}{\\partial{}X_{\\beta}}\")"
   ]
  },
  {
   "cell_type": "code",
   "execution_count": 11,
   "metadata": {},
   "outputs": [],
   "source": [
    "A = Matrix(\n",
    "    [[1, 0, 0, 0],\n",
    "     [Xa, r, 0, 0],\n",
    "     [Xb, 0, r, 0],\n",
    "     [e + r*dedr, r*dedXa, r*dedXb, r*dedT]])"
   ]
  },
  {
   "cell_type": "code",
   "execution_count": 12,
   "metadata": {},
   "outputs": [
    {
     "data": {
      "image/png": "[encoded data removed]",
      "text/latex": [
       "$$\\left[\\begin{matrix}1 & 0 & 0 & 0\\\\X_{\\alpha} & \\rho & 0 & 0\\\\X_{\\beta} & 0 & \\rho & 0\\\\\\frac{\\partial{}e}{\\partial\\rho} \\rho + e & \\frac{\\partial{}e}{\\partial{}X_{\\alpha}} \\rho & \\frac{\\partial{}e}{\\partial{}X_{\\beta}} \\rho & \\frac{\\partial{}e}{\\partial{}T} \\rho\\end{matrix}\\right]$$"
      ],
      "text/plain": [
       "⎡                  1                                         0                \n",
       "⎢                                                                             \n",
       "⎢              X_{\\alpha}                                    ρ                \n",
       "⎢                                                                             \n",
       "⎢              X_{\\beta}                                     0                \n",
       "⎢                                                                             \n",
       "⎣\\frac{\\partial{}e}{\\partial\\rho}⋅ρ + e  \\frac{\\partial{}e}{\\partial{}X_{\\alph\n",
       "\n",
       "                           0                                      0           \n",
       "                                                                              \n",
       "                           0                                      0           \n",
       "                                                                              \n",
       "                           ρ                                      0           \n",
       "                                                                              \n",
       "a}}⋅ρ  \\frac{\\partial{}e}{\\partial{}X_{\\beta}}⋅ρ  \\frac{\\partial{}e}{\\partial{\n",
       "\n",
       "     ⎤\n",
       "     ⎥\n",
       "     ⎥\n",
       "     ⎥\n",
       "     ⎥\n",
       "     ⎥\n",
       "}T}⋅ρ⎦"
      ]
     },
     "execution_count": 12,
     "metadata": {},
     "output_type": "execute_result"
    }
   ],
   "source": [
    "A"
   ]
  },
  {
   "cell_type": "markdown",
   "metadata": {},
   "source": [
    "The inverse of $A$ is $\\partial w/\\partial \\mathcal{U}$"
   ]
  },
  {
   "cell_type": "code",
   "execution_count": 13,
   "metadata": {},
   "outputs": [
    {
     "data": {
      "image/png": "[encoded data removed]",
      "text/latex": [
       "$$\\left[\\begin{matrix}1 & 0 & 0 & 0\\\\- \\frac{X_{\\alpha}}{\\rho} & \\frac{1}{\\rho} & 0 & 0\\\\- \\frac{X_{\\beta}}{\\rho} & 0 & \\frac{1}{\\rho} & 0\\\\\\frac{X_{\\alpha} \\frac{\\partial{}e}{\\partial{}X_{\\alpha}} + X_{\\beta} \\frac{\\partial{}e}{\\partial{}X_{\\beta}} - \\frac{\\partial{}e}{\\partial\\rho} \\rho - e}{\\frac{\\partial{}e}{\\partial{}T} \\rho} & - \\frac{\\frac{\\partial{}e}{\\partial{}X_{\\alpha}}}{\\frac{\\partial{}e}{\\partial{}T} \\rho} & - \\frac{\\frac{\\partial{}e}{\\partial{}X_{\\beta}}}{\\frac{\\partial{}e}{\\partial{}T} \\rho} & \\frac{1}{\\frac{\\partial{}e}{\\partial{}T} \\rho}\\end{matrix}\\right]$$"
      ],
      "text/plain": [
       "⎡                                                                       1     \n",
       "⎢                                                                             \n",
       "⎢                                                                  -X_{\\alpha}\n",
       "⎢                                                                  ───────────\n",
       "⎢                                                                       ρ     \n",
       "⎢                                                                             \n",
       "⎢                                                                  -X_{\\beta} \n",
       "⎢                                                                  ───────────\n",
       "⎢                                                                       ρ     \n",
       "⎢                                                                             \n",
       "⎢X_{\\alpha}⋅\\frac{\\partial{}e}{\\partial{}X_{\\alpha}} + X_{\\beta}⋅\\frac{\\partia\n",
       "⎢─────────────────────────────────────────────────────────────────────────────\n",
       "⎣                                                       \\frac{\\partial{}e}{\\pa\n",
       "\n",
       "                                                                              \n",
       "                                                                              \n",
       "                                                                              \n",
       "─                                                                             \n",
       "                                                                              \n",
       "                                                                              \n",
       "                                                                              \n",
       "                                                                              \n",
       "                                                                              \n",
       "                                                                              \n",
       "l{}e}{\\partial{}X_{\\beta}} - \\frac{\\partial{}e}{\\partial\\rho}⋅ρ - e  -\\frac{\\p\n",
       "───────────────────────────────────────────────────────────────────  ─────────\n",
       "rtial{}T}⋅ρ                                                              \\frac\n",
       "\n",
       "           0                                           0                      \n",
       "                                                                              \n",
       "           1                                                                  \n",
       "           ─                                           0                      \n",
       "           ρ                                                                  \n",
       "                                                                              \n",
       "                                                       1                      \n",
       "           0                                           ─                      \n",
       "                                                       ρ                      \n",
       "                                                                              \n",
       "artial{}e}{\\partial{}X_{\\alpha}}   -\\frac{\\partial{}e}{\\partial{}X_{\\beta}}   \n",
       "─────────────────────────────────  ─────────────────────────────────────────  \n",
       "{\\partial{}e}{\\partial{}T}⋅ρ           \\frac{\\partial{}e}{\\partial{}T}⋅ρ      \n",
       "\n",
       "                0                ⎤\n",
       "                                 ⎥\n",
       "                                 ⎥\n",
       "                0                ⎥\n",
       "                                 ⎥\n",
       "                                 ⎥\n",
       "                                 ⎥\n",
       "                0                ⎥\n",
       "                                 ⎥\n",
       "                                 ⎥\n",
       "                1                ⎥\n",
       "─────────────────────────────────⎥\n",
       "\\frac{\\partial{}e}{\\partial{}T}⋅ρ⎦"
      ]
     },
     "execution_count": 13,
     "metadata": {},
     "output_type": "execute_result"
    }
   ],
   "source": [
    "simplify(A.inv())"
   ]
  },
  {
   "cell_type": "markdown",
   "metadata": {},
   "source": [
    "## Diffusion Differences\n",
    "\n",
    "There are two forms of the derivative we need: a pointwise difference and one that acts on average."
   ]
  },
  {
   "cell_type": "markdown",
   "metadata": {},
   "source": [
    "### Pointwise difference"
   ]
  },
  {
   "cell_type": "markdown",
   "metadata": {},
   "source": [
    "We can construct the derivative to 4th order by writing the following Taylor expansions:\n",
    "\n",
    "\\begin{align}\n",
    "  T_{i+1} = T\\left (x_{i+1/2} + \\frac{h}{2}\\right ) = T_{i+1/2} &+\n",
    "    \\left . \\frac{dT}{dx}\\right |_{i+1/2} \\frac{h}{2} +\n",
    "    \\frac{1}{2} \\left . \\frac{d^2T}{dx^2}\\right |_{i+1/2} \\left (\\frac{h}{2}\\right )^2 \\nonumber \\\\\n",
    "    &+     \\frac{1}{6} \\left . \\frac{d^3T}{dx^3}\\right |_{i+1/2} \\left (\\frac{h}{2}\\right )^3 +\n",
    "    \\frac{1}{24} \\left . \\frac{d^4T}{dx^4}\\right |_{i+1/2} \\left (\\frac{h}{2}\\right )^4 + \\mathcal{O}(h^5) \\\\\n",
    "  T_{i} = T\\left (x_{i+1/2} - \\frac{h}{2}\\right ) = T_{i+1/2} &-\n",
    "    \\left . \\frac{dT}{dx}\\right |_{i+1/2} \\frac{h}{2} + \n",
    "    \\frac{1}{2} \\left . \\frac{d^2T}{dx^2}\\right |_{i+1/2} \\left (\\frac{h}{2}\\right )^2 \\nonumber \\\\ \n",
    "    &-     \\frac{1}{6} \\left . \\frac{d^3T}{dx^3}\\right |_{i+1/2} \\left (\\frac{h}{2}\\right )^3 +\n",
    "    \\frac{1}{24} \\left . \\frac{d^4T}{dx^4}\\right |_{i+1/2} \\left (\\frac{h}{2}\\right )^4 + \\mathcal{O}(h^5)\n",
    "\\end{align}      \n",
    "and similar for $T_{i-1}= T(x_{i+1/2} - 3h/2)$ and $T_i+2 = T(x_{i+1/2} + 3h/2)$"
   ]
  },
  {
   "cell_type": "code",
   "execution_count": 14,
   "metadata": {},
   "outputs": [],
   "source": [
    "# define the symbols\n",
    "Th = symbols(\"T_{i+1/2}\")\n",
    "dTdx, d2Tdx2, d3Tdx3, d4Tdx4 = symbols(\"dT/dx|_{i+1/2} \" +\n",
    "                                       \"d^2T/dx^2|_{i+1/2} \" +\n",
    "                                       \"d^3T/dx^3|_{i+1/2} \" +\n",
    "                                       \"d^4T/dx^4|_{i+1/2}\")\n",
    "h = symbols(\"h\")"
   ]
  },
  {
   "cell_type": "markdown",
   "metadata": {},
   "source": [
    "Here are our 4 Taylor expansions"
   ]
  },
  {
   "cell_type": "code",
   "execution_count": 15,
   "metadata": {},
   "outputs": [],
   "source": [
    "T1 = Th + dTdx * Rational(1,2)*h + Rational(1,2)*d2Tdx2 * Rational(1,2)**2 *h**2 + \\\n",
    "          Rational(1,6)*d3Tdx3 * Rational(1,2)**3 * h**3 + Rational(1,24)*d4Tdx4 * Rational(1,2)**4 *h**4\n",
    "T0 = Th - dTdx * Rational(1,2)*h + Rational(1,2)*d2Tdx2 * Rational(1,2)**2 *h**2 - \\\n",
    "          Rational(1,6)*d3Tdx3 * Rational(1,2)**3 * h**3 + Rational(1,24)*d4Tdx4 * Rational(1,2)**4 *h**4\n",
    "T2 = Th + dTdx * Rational(3,2)*h + Rational(1,2)*d2Tdx2 * Rational(3,2)**2 *h**2 + \\\n",
    "          Rational(1,6)*d3Tdx3 * Rational(3,2)**3 * h**3 + Rational(1,24)*d4Tdx4 * Rational(3,2)**4 *h**4\n",
    "Tm1 = Th - dTdx * Rational(3,2)*h + Rational(1,2)*d2Tdx2 * Rational(3,2)**2 *h**2 - \\\n",
    "          Rational(1,6)*d3Tdx3 * Rational(3,2)**3 * h**3 + Rational(1,24)*d4Tdx4 * Rational(3,2)**4 *h**4"
   ]
  },
  {
   "cell_type": "markdown",
   "metadata": {},
   "source": [
    "Notice the difference $T_{i+1} - T_i$:"
   ]
  },
  {
   "cell_type": "code",
   "execution_count": 16,
   "metadata": {},
   "outputs": [
    {
     "data": {
      "image/png": "[encoded data removed]",
      "text/latex": [
       "$$dT/dx|_{i+1/2} h + \\frac{d^3T/dx^3|_{i+1/2} h^{3}}{24}$$"
      ],
      "text/plain": [
       "                                         3\n",
       "                   d_{i+1/2}__3T/dx__3|⋅h \n",
       "dT/dx|_{i+1/2}⋅h + ───────────────────────\n",
       "                              24          "
      ]
     },
     "execution_count": 16,
     "metadata": {},
     "output_type": "execute_result"
    }
   ],
   "source": [
    "T1 - T0"
   ]
  },
  {
   "cell_type": "markdown",
   "metadata": {},
   "source": [
    "and likewise the difference $T_{i+2} - T_{i-1}$"
   ]
  },
  {
   "cell_type": "code",
   "execution_count": 17,
   "metadata": {},
   "outputs": [
    {
     "data": {
      "image/png": "[encoded data removed]",
      "text/latex": [
       "$$3 dT/dx|_{i+1/2} h + \\frac{9 d^3T/dx^3|_{i+1/2} h^{3}}{8}$$"
      ],
      "text/plain": [
       "                                             3\n",
       "                     9⋅d_{i+1/2}__3T/dx__3|⋅h \n",
       "3⋅dT/dx|_{i+1/2}⋅h + ─────────────────────────\n",
       "                                 8            "
      ]
     },
     "execution_count": 17,
     "metadata": {},
     "output_type": "execute_result"
    }
   ],
   "source": [
    "T2 - Tm1"
   ]
  },
  {
   "cell_type": "markdown",
   "metadata": {},
   "source": [
    "This suggests that the combination:\n",
    "$$\\frac{-T_{i+2} + 27 T_{i+1} - 27 T_i + T_{i-1}}{24h} = \\left . \\frac{dT}{dx} \\right |_{i+1/2}$$"
   ]
  },
  {
   "cell_type": "code",
   "execution_count": 18,
   "metadata": {},
   "outputs": [
    {
     "data": {
      "image/png": "[encoded data removed]",
      "text/latex": [
       "$$dT/dx|_{i+1/2}$$"
      ],
      "text/plain": [
       "dT/dx|_{i+1/2}"
      ]
     },
     "execution_count": 18,
     "metadata": {},
     "output_type": "execute_result"
    }
   ],
   "source": [
    "(-T2 + 27*T1 - 27*T0 + Tm1)/(24*h)"
   ]
  },
  {
   "cell_type": "markdown",
   "metadata": {},
   "source": [
    "Since we expanded to $h^4$ and no $h$ terms remain, this shows that this expression for the derivative is fourth order accurate."
   ]
  },
  {
   "cell_type": "markdown",
   "metadata": {},
   "source": [
    "### Cell-average difference\n",
    "\n",
    "We want to construct a cubic polynomal through that goes through volumes $x_{i-1}$, $x_{i}$, $x_{i+1}$, $x_{i+2}$ and gives the correct averages,\n",
    "$\\langle f\\rangle_{i-1}$, $\\langle f\\rangle_{i}$, $\\langle f\\rangle_{i+1}$, and $\\langle f\\rangle_{i+2}$ when integrated over the volume, e.g.\n",
    "\n",
    "$$\\frac{1}{\\Delta x} \\int_{x_{i-1/2}}^{x_{i+1/2}} f(x) dx = \\langle f\\rangle_i$$\n",
    "\n",
    "There are 4 unknowns in the quadratic and four constraints, so this is a linear system we can solve."
   ]
  },
  {
   "cell_type": "markdown",
   "metadata": {},
   "source": [
    "Define the quadratic polynomial, using $x_i$ as our reference"
   ]
  },
  {
   "cell_type": "code",
   "execution_count": 19,
   "metadata": {},
   "outputs": [
    {
     "data": {
      "image/png": "[encoded data removed]",
      "text/latex": [
       "$$a \\left(x - x_{i}\\right)^{3} + b \\left(x - x_{i}\\right)^{2} + c \\left(x - x_{i}\\right) + d$$"
      ],
      "text/plain": [
       "          3             2                 \n",
       "a⋅(x - xᵢ)  + b⋅(x - xᵢ)  + c⋅(x - xᵢ) + d"
      ]
     },
     "execution_count": 19,
     "metadata": {},
     "output_type": "execute_result"
    }
   ],
   "source": [
    "x0 = symbols(\"x_i\")\n",
    "a, b, c, d = symbols(\"a b c d\")\n",
    "f = a*(x-x0)**3 + b*(x-x0)**2 + c*(x-x0) + d\n",
    "f"
   ]
  },
  {
   "cell_type": "code",
   "execution_count": 20,
   "metadata": {},
   "outputs": [],
   "source": [
    "h = symbols(\"h\")"
   ]
  },
  {
   "cell_type": "markdown",
   "metadata": {},
   "source": [
    "### constraints\n",
    "\n",
    "Define the 4 constraint equations---here we set them up construct $A$, $B$, $C$, and $D$ as the integrals over the 4 control volumes\n",
    "\n",
    "Our linear system is now:\n",
    "\n",
    "$$A = \\langle f\\rangle_{i-1}$$\n",
    "$$B = \\langle f\\rangle_{i}$$\n",
    "$$C = \\langle f\\rangle_{i+1}$$\n",
    "$$D = \\langle f\\rangle_{i+2}$$\n",
    "\n",
    "These are the function values we constrain to"
   ]
  },
  {
   "cell_type": "code",
   "execution_count": 21,
   "metadata": {},
   "outputs": [],
   "source": [
    "fm, f0, fp, fp2 = symbols(r\"{\\langle{}f\\rangle}_{i-1} {\\langle{}f\\rangle}_{i} {\\langle{}f\\rangle}_{i+1} {\\langle{}f\\rangle}_{i+2}\")"
   ]
  },
  {
   "cell_type": "markdown",
   "metadata": {},
   "source": [
    "Now define the interfaces"
   ]
  },
  {
   "cell_type": "code",
   "execution_count": 22,
   "metadata": {},
   "outputs": [],
   "source": [
    "xm32 = x0 - Rational(3,2)*h\n",
    "xm12 = x0 - Rational(1,2)*h\n",
    "xp12 = x0 + Rational(1,2)*h\n",
    "xp32 = x0 + Rational(3,2)*h\n",
    "xp52 = x0 + Rational(5,2)*h"
   ]
  },
  {
   "cell_type": "code",
   "execution_count": 23,
   "metadata": {},
   "outputs": [
    {
     "data": {
      "image/png": "[encoded data removed]",
      "text/latex": [
       "$$\\left ( - \\frac{3 h}{2} + x_{i}, \\quad - \\frac{h}{2} + x_{i}, \\quad \\frac{h}{2} + x_{i}, \\quad \\frac{3 h}{2} + x_{i}, \\quad \\frac{5 h}{2} + x_{i}\\right )$$"
      ],
      "text/plain": [
       "⎛  3⋅h         h       h       3⋅h       5⋅h     ⎞\n",
       "⎜- ─── + xᵢ, - ─ + xᵢ, ─ + xᵢ, ─── + xᵢ, ─── + xᵢ⎟\n",
       "⎝   2          2       2        2         2      ⎠"
      ]
     },
     "execution_count": 23,
     "metadata": {},
     "output_type": "execute_result"
    }
   ],
   "source": [
    "xm32, xm12, xp12, xp32, xp52"
   ]
  },
  {
   "cell_type": "markdown",
   "metadata": {},
   "source": [
    "Next perform the integals of $f(x)$ over each zone"
   ]
  },
  {
   "cell_type": "code",
   "execution_count": 24,
   "metadata": {},
   "outputs": [],
   "source": [
    "A = simplify(integrate(f/h, (x, xm32, xm12)))\n",
    "B = simplify(integrate(f/h, (x, xm12, xp12)))\n",
    "C = simplify(integrate(f/h, (x, xp12, xp32)))\n",
    "D = simplify(integrate(f/h, (x, xp32, xp52)))"
   ]
  },
  {
   "cell_type": "code",
   "execution_count": 25,
   "metadata": {},
   "outputs": [
    {
     "data": {
      "image/png": "[encoded data removed]",
      "text/latex": [
       "$$\\left ( - \\frac{5 a h^{3}}{4} + \\frac{13 b h^{2}}{12} - c h + d, \\quad \\frac{b h^{2}}{12} + d, \\quad \\frac{5 a h^{3}}{4} + \\frac{13 b h^{2}}{12} + c h + d, \\quad \\frac{17 a h^{3}}{2} + \\frac{49 b h^{2}}{12} + 2 c h + d\\right )$$"
      ],
      "text/plain": [
       "⎛       3         2               2           3         2                  3  \n",
       "⎜  5⋅a⋅h    13⋅b⋅h             b⋅h       5⋅a⋅h    13⋅b⋅h             17⋅a⋅h   \n",
       "⎜- ────── + ─────── - c⋅h + d, ──── + d, ────── + ─────── + c⋅h + d, ─────── +\n",
       "⎝    4         12               12         4         12                 2     \n",
       "\n",
       "       2            ⎞\n",
       " 49⋅b⋅h             ⎟\n",
       " ─────── + 2⋅c⋅h + d⎟\n",
       "    12              ⎠"
      ]
     },
     "execution_count": 25,
     "metadata": {},
     "output_type": "execute_result"
    }
   ],
   "source": [
    "A, B, C, D"
   ]
  },
  {
   "cell_type": "markdown",
   "metadata": {},
   "source": [
    "Finally find the coefficients of the polynomial"
   ]
  },
  {
   "cell_type": "code",
   "execution_count": 26,
   "metadata": {},
   "outputs": [
    {
     "data": {
      "image/png": "[encoded data removed]",
      "text/latex": [
       "$$\\left \\{ a : \\frac{- 3 {\\langle{}f\\rangle}_{i+1} + {\\langle{}f\\rangle}_{i+2} - {\\langle{}f\\rangle}_{i-1} + 3 {\\langle{}f\\rangle}_{i}}{6 h^{3}}, \\quad b : \\frac{{\\langle{}f\\rangle}_{i+1} + {\\langle{}f\\rangle}_{i-1} - 2 {\\langle{}f\\rangle}_{i}}{2 h^{2}}, \\quad c : \\frac{27 {\\langle{}f\\rangle}_{i+1} - 5 {\\langle{}f\\rangle}_{i+2} - 7 {\\langle{}f\\rangle}_{i-1} - 15 {\\langle{}f\\rangle}_{i}}{24 h}, \\quad d : - \\frac{{\\langle{}f\\rangle}_{i+1}}{24} - \\frac{{\\langle{}f\\rangle}_{i-1}}{24} + \\frac{13 {\\langle{}f\\rangle}_{i}}{12}\\right \\}$$"
      ],
      "text/plain": [
       "⎧   -3⋅{\\langle{}f\\rangle}_{i+1} + {\\langle{}f\\rangle}_{i+2} - {\\langle{}f\\ran\n",
       "⎪a: ──────────────────────────────────────────────────────────────────────────\n",
       "⎨                                                            3                \n",
       "⎪                                                         6⋅h                 \n",
       "⎩                                                                             \n",
       "\n",
       "gle}_{i-1} + 3⋅{\\langle{}f\\rangle}_{i}     {\\langle{}f\\rangle}_{i+1} + {\\langl\n",
       "──────────────────────────────────────, b: ───────────────────────────────────\n",
       "                                                                              \n",
       "                                                                              \n",
       "                                                                              \n",
       "\n",
       "e{}f\\rangle}_{i-1} - 2⋅{\\langle{}f\\rangle}_{i}     27⋅{\\langle{}f\\rangle}_{i+1\n",
       "──────────────────────────────────────────────, c: ───────────────────────────\n",
       "       2                                                                      \n",
       "    2⋅h                                                                       \n",
       "                                                                              \n",
       "\n",
       "} - 5⋅{\\langle{}f\\rangle}_{i+2} - 7⋅{\\langle{}f\\rangle}_{i-1} - 15⋅{\\langle{}f\n",
       "──────────────────────────────────────────────────────────────────────────────\n",
       "                              24⋅h                                            \n",
       "                                                                              \n",
       "                                                                              \n",
       "\n",
       "\\rangle}_{i}       {\\langle{}f\\rangle}_{i+1}   {\\langle{}f\\rangle}_{i-1}   13⋅\n",
       "────────────, d: - ───────────────────────── - ───────────────────────── + ───\n",
       "                               24                          24                 \n",
       "                                                                              \n",
       "                                                                              \n",
       "\n",
       "{\\langle{}f\\rangle}_{i}⎫\n",
       "───────────────────────⎪\n",
       "         12            ⎬\n",
       "                       ⎪\n",
       "                       ⎭"
      ]
     },
     "execution_count": 26,
     "metadata": {},
     "output_type": "execute_result"
    }
   ],
   "source": [
    "coeffs = solve([A-fm, B-f0, C-fp, D-fp2], [a,b,c,d], check=False)\n",
    "coeffs"
   ]
  },
  {
   "cell_type": "markdown",
   "metadata": {},
   "source": [
    "### interpolating polynomial"
   ]
  },
  {
   "cell_type": "code",
   "execution_count": 27,
   "metadata": {},
   "outputs": [
    {
     "data": {
      "image/png": "[encoded data removed]",
      "text/latex": [
       "$$- \\frac{{\\langle{}f\\rangle}_{i+1}}{24} - \\frac{{\\langle{}f\\rangle}_{i-1}}{24} + \\frac{13 {\\langle{}f\\rangle}_{i}}{12} + \\frac{\\left(x - x_{i}\\right) \\left(27 {\\langle{}f\\rangle}_{i+1} - 5 {\\langle{}f\\rangle}_{i+2} - 7 {\\langle{}f\\rangle}_{i-1} - 15 {\\langle{}f\\rangle}_{i}\\right)}{24 h} + \\frac{\\left(x - x_{i}\\right)^{2} \\left({\\langle{}f\\rangle}_{i+1} + {\\langle{}f\\rangle}_{i-1} - 2 {\\langle{}f\\rangle}_{i}\\right)}{2 h^{2}} + \\frac{\\left(x - x_{i}\\right)^{3} \\left(- 3 {\\langle{}f\\rangle}_{i+1} + {\\langle{}f\\rangle}_{i+2} - {\\langle{}f\\rangle}_{i-1} + 3 {\\langle{}f\\rangle}_{i}\\right)}{6 h^{3}}$$"
      ],
      "text/plain": [
       "                                                                              \n",
       "  {\\langle{}f\\rangle}_{i+1}   {\\langle{}f\\rangle}_{i-1}   13⋅{\\langle{}f\\rangl\n",
       "- ───────────────────────── - ───────────────────────── + ────────────────────\n",
       "              24                          24                          12      \n",
       "                                                                              \n",
       "\n",
       "                                                                              \n",
       "e}_{i}   (x - xᵢ)⋅(27⋅{\\langle{}f\\rangle}_{i+1} - 5⋅{\\langle{}f\\rangle}_{i+2} \n",
       "────── + ─────────────────────────────────────────────────────────────────────\n",
       "                                                                       24⋅h   \n",
       "                                                                              \n",
       "\n",
       "                                                                      2       \n",
       "- 7⋅{\\langle{}f\\rangle}_{i-1} - 15⋅{\\langle{}f\\rangle}_{i})   (x - xᵢ) ⋅({\\lan\n",
       "─────────────────────────────────────────────────────────── + ────────────────\n",
       "                                                                              \n",
       "                                                                              \n",
       "\n",
       "                                                                              \n",
       "gle{}f\\rangle}_{i+1} + {\\langle{}f\\rangle}_{i-1} - 2⋅{\\langle{}f\\rangle}_{i}) \n",
       "───────────────────────────────────────────────────────────────────────────── \n",
       "                                2                                             \n",
       "                             2⋅h                                              \n",
       "\n",
       "          3                                                                   \n",
       "  (x - xᵢ) ⋅(-3⋅{\\langle{}f\\rangle}_{i+1} + {\\langle{}f\\rangle}_{i+2} - {\\lang\n",
       "+ ────────────────────────────────────────────────────────────────────────────\n",
       "                                                                 3            \n",
       "                                                              6⋅h             \n",
       "\n",
       "                                                \n",
       "le{}f\\rangle}_{i-1} + 3⋅{\\langle{}f\\rangle}_{i})\n",
       "────────────────────────────────────────────────\n",
       "                                                \n",
       "                                                "
      ]
     },
     "execution_count": 27,
     "metadata": {},
     "output_type": "execute_result"
    }
   ],
   "source": [
    "fc = f.subs(a,coeffs[a]).subs(b,coeffs[b]).subs(c,coeffs[c]).subs(d,coeffs[d])\n",
    "fc"
   ]
  },
  {
   "cell_type": "markdown",
   "metadata": {},
   "source": [
    "### derivative at i+1/2 interface"
   ]
  },
  {
   "cell_type": "markdown",
   "metadata": {},
   "source": [
    "this interpolant is symmetric about the $i+1/2$ interface.  We'll compute the derivative there."
   ]
  },
  {
   "cell_type": "code",
   "execution_count": 28,
   "metadata": {},
   "outputs": [],
   "source": [
    "df = diff(fc, x).subs(x, xp12)"
   ]
  },
  {
   "cell_type": "code",
   "execution_count": 29,
   "metadata": {},
   "outputs": [
    {
     "data": {
      "image/png": "[encoded data removed]",
      "text/latex": [
       "$$\\frac{15 {\\langle{}f\\rangle}_{i+1} - {\\langle{}f\\rangle}_{i+2} + {\\langle{}f\\rangle}_{i-1} - 15 {\\langle{}f\\rangle}_{i}}{12 h}$$"
      ],
      "text/plain": [
       "15⋅{\\langle{}f\\rangle}_{i+1} - {\\langle{}f\\rangle}_{i+2} + {\\langle{}f\\rangle}\n",
       "──────────────────────────────────────────────────────────────────────────────\n",
       "                                                       12⋅h                   \n",
       "\n",
       "_{i-1} - 15⋅{\\langle{}f\\rangle}_{i}\n",
       "───────────────────────────────────\n",
       "                                   "
      ]
     },
     "execution_count": 29,
     "metadata": {},
     "output_type": "execute_result"
    }
   ],
   "source": [
    "simplify(df)"
   ]
  },
  {
   "cell_type": "markdown",
   "metadata": {},
   "source": [
    "### value at i+1/2 interface\n",
    "\n",
    "Just as a check, the value of the polynomial itself, not the derivative, at the same interface should be the usual 7/12-1/12 rule we use for finding interface states."
   ]
  },
  {
   "cell_type": "code",
   "execution_count": 30,
   "metadata": {},
   "outputs": [
    {
     "data": {
      "image/png": "[encoded data removed]",
      "text/latex": [
       "$$\\frac{7 {\\langle{}f\\rangle}_{i+1}}{12} - \\frac{{\\langle{}f\\rangle}_{i+2}}{12} - \\frac{{\\langle{}f\\rangle}_{i-1}}{12} + \\frac{7 {\\langle{}f\\rangle}_{i}}{12}$$"
      ],
      "text/plain": [
       "7⋅{\\langle{}f\\rangle}_{i+1}   {\\langle{}f\\rangle}_{i+2}   {\\langle{}f\\rangle}_\n",
       "─────────────────────────── - ───────────────────────── - ────────────────────\n",
       "             12                           12                          12      \n",
       "\n",
       "{i-1}   7⋅{\\langle{}f\\rangle}_{i}\n",
       "───── + ─────────────────────────\n",
       "                    12           "
      ]
     },
     "execution_count": 30,
     "metadata": {},
     "output_type": "execute_result"
    }
   ],
   "source": [
    "simplify(fc.subs(x, xp12))"
   ]
  },
  {
   "cell_type": "code",
   "execution_count": null,
   "metadata": {},
   "outputs": [],
   "source": []
  }
 ],
 "metadata": {
  "kernelspec": {
   "display_name": "Python 3",
   "language": "python",
   "name": "python3"
  },
  "language_info": {
   "codemirror_mode": {
    "name": "ipython",
    "version": 3
   },
   "file_extension": ".py",
   "mimetype": "text/x-python",
   "name": "python",
   "nbconvert_exporter": "python",
   "pygments_lexer": "ipython3",
   "version": "3.7.4"
  }
 },
 "nbformat": 4,
 "nbformat_minor": 4
}
